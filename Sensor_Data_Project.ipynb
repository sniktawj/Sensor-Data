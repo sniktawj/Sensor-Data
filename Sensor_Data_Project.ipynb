{
 "cells": [
  {
   "cell_type": "markdown",
   "id": "3349ad0c",
   "metadata": {},
   "source": [
    "<h3 style = \"text-align: center; color:blue\"> ISAT 341: Machine Learning and Data Science </h3>\n",
    "\n",
    "<h3 style = \"text-align: center; color:green\"> Project: Machine Learning Confidential Sensor Data </h3>\n",
    "\n",
    "<img src = \"images/machine_learning.jpg\" width=200; height=250; align= center>\n",
    "\n",
    "<h3 style = \"text-align: center; color:red\"> Working with <em>real-world</em> datasets </h3>\n",
    "\n",
    "### Objectives\n",
    "\n",
    "To demonstrate the ability to complete an end-to-end data science / machine learning project using real-world data by following and\n",
    "implementing the main machine learning checklist steps that lead to a solution, namely:\n",
    "* Frame the problem and look at the big picture.\n",
    "* Get the data.\n",
    "* Explore the data to gain insights.\n",
    "* Prepare the data to expose the underlying data patterns to Machine Learning algorithms.\n",
    "* Explore many different models and short-list the best ones.\n",
    "* Fine-tune your models and combine them into a great solution.\n",
    "* Present your solution.\n",
    "* Launch, monitor, and maintain your system\n",
    "\n",
    "<h3 style = \"text-align: left; color:purple\"> Frame the Problem </h3>\n",
    "\n",
    "<img src = \"images/sensor_array.jpg\" width=200; height=250; align= center>\n",
    "\n",
    "### Sensor Data\n",
    "\n",
    "The data source as well as the exact nature of the data is confidential. Each data instance contains 12 real-valued input attributes. Each input\n",
    "attribute represents a sensor designed to detect the presence of one of two groups of substances. As an alternative, the sensor readings may\n",
    "represent a 'false alarm'.\n",
    "* Substance 1 is represented by the value 'one' in the class attribute column.\n",
    "* Substance 2 is represented by the value 'two' in the class attribute column.\n",
    "* A false alarm is represented by the value 'three' in the class attribute column.\n",
    "\n",
    "The problem is framed as a **supervised learning** problem: Predict the class of a substance from sensor data using the given measurements in the dataset.\n",
    "\n",
    "<h3 style = \"text-align: Center; color:purple\"> Project Analysis Starts Here! </h3>\n"
   ]
  },
  {
   "cell_type": "code",
   "execution_count": 1,
   "id": "7221bde4",
   "metadata": {},
   "outputs": [],
   "source": [
    "# import packages\n",
    "%matplotlib inline\n",
    "import matplotlib.pyplot as plt\n",
    "import numpy as np\n",
    "import pandas as pd\n",
    "np.set_printoptions(precision=3, suppress=True)"
   ]
  },
  {
   "cell_type": "markdown",
   "id": "d2abe0fb",
   "metadata": {},
   "source": [
    "<h3 style = \"text-align: left; color:green\"> Exploratory Data Analysis </h3>\n",
    "\n",
    "### 1) TO DO: Use Pandas to load your data into a dataframe"
   ]
  },
  {
   "cell_type": "code",
   "execution_count": 2,
   "id": "f8f49875",
   "metadata": {},
   "outputs": [
    {
     "data": {
      "text/html": [
       "<div>\n",
       "<style scoped>\n",
       "    .dataframe tbody tr th:only-of-type {\n",
       "        vertical-align: middle;\n",
       "    }\n",
       "\n",
       "    .dataframe tbody tr th {\n",
       "        vertical-align: top;\n",
       "    }\n",
       "\n",
       "    .dataframe thead th {\n",
       "        text-align: right;\n",
       "    }\n",
       "</style>\n",
       "<table border=\"1\" class=\"dataframe\">\n",
       "  <thead>\n",
       "    <tr style=\"text-align: right;\">\n",
       "      <th></th>\n",
       "      <th>Input 1</th>\n",
       "      <th>Input 2</th>\n",
       "      <th>Input 3</th>\n",
       "      <th>Input 4</th>\n",
       "      <th>Input 5</th>\n",
       "      <th>Input 6</th>\n",
       "      <th>Input 7</th>\n",
       "      <th>Input 8</th>\n",
       "      <th>Input 9</th>\n",
       "      <th>Input 10</th>\n",
       "      <th>Input 11</th>\n",
       "      <th>Input 12</th>\n",
       "      <th>class</th>\n",
       "    </tr>\n",
       "  </thead>\n",
       "  <tbody>\n",
       "    <tr>\n",
       "      <th>0</th>\n",
       "      <td>1.473</td>\n",
       "      <td>2.311</td>\n",
       "      <td>3.179</td>\n",
       "      <td>2.666</td>\n",
       "      <td>0.27950</td>\n",
       "      <td>0.27710</td>\n",
       "      <td>0.22340</td>\n",
       "      <td>0.18550</td>\n",
       "      <td>0.2539</td>\n",
       "      <td>1.138</td>\n",
       "      <td>1.1110</td>\n",
       "      <td>4.712</td>\n",
       "      <td>one</td>\n",
       "    </tr>\n",
       "    <tr>\n",
       "      <th>1</th>\n",
       "      <td>1.460</td>\n",
       "      <td>2.377</td>\n",
       "      <td>3.214</td>\n",
       "      <td>2.920</td>\n",
       "      <td>0.25270</td>\n",
       "      <td>0.30640</td>\n",
       "      <td>0.02563</td>\n",
       "      <td>0.19650</td>\n",
       "      <td>0.3027</td>\n",
       "      <td>1.213</td>\n",
       "      <td>1.0270</td>\n",
       "      <td>5.463</td>\n",
       "      <td>one</td>\n",
       "    </tr>\n",
       "    <tr>\n",
       "      <th>2</th>\n",
       "      <td>1.552</td>\n",
       "      <td>2.164</td>\n",
       "      <td>3.064</td>\n",
       "      <td>2.745</td>\n",
       "      <td>0.28200</td>\n",
       "      <td>0.21000</td>\n",
       "      <td>0.17210</td>\n",
       "      <td>0.19290</td>\n",
       "      <td>0.2100</td>\n",
       "      <td>1.221</td>\n",
       "      <td>1.0580</td>\n",
       "      <td>5.332</td>\n",
       "      <td>one</td>\n",
       "    </tr>\n",
       "    <tr>\n",
       "      <th>3</th>\n",
       "      <td>1.605</td>\n",
       "      <td>2.228</td>\n",
       "      <td>3.149</td>\n",
       "      <td>2.834</td>\n",
       "      <td>0.29170</td>\n",
       "      <td>0.36130</td>\n",
       "      <td>0.20870</td>\n",
       "      <td>0.12940</td>\n",
       "      <td>0.2734</td>\n",
       "      <td>1.144</td>\n",
       "      <td>1.0620</td>\n",
       "      <td>4.829</td>\n",
       "      <td>one</td>\n",
       "    </tr>\n",
       "    <tr>\n",
       "      <th>4</th>\n",
       "      <td>1.534</td>\n",
       "      <td>2.114</td>\n",
       "      <td>3.309</td>\n",
       "      <td>2.976</td>\n",
       "      <td>0.21000</td>\n",
       "      <td>0.25020</td>\n",
       "      <td>0.22580</td>\n",
       "      <td>0.17700</td>\n",
       "      <td>0.2039</td>\n",
       "      <td>1.254</td>\n",
       "      <td>1.1120</td>\n",
       "      <td>5.734</td>\n",
       "      <td>one</td>\n",
       "    </tr>\n",
       "    <tr>\n",
       "      <th>5</th>\n",
       "      <td>1.796</td>\n",
       "      <td>2.262</td>\n",
       "      <td>3.180</td>\n",
       "      <td>2.888</td>\n",
       "      <td>0.29660</td>\n",
       "      <td>0.14770</td>\n",
       "      <td>0.16240</td>\n",
       "      <td>0.28200</td>\n",
       "      <td>-9999.0000</td>\n",
       "      <td>1.172</td>\n",
       "      <td>1.0300</td>\n",
       "      <td>4.861</td>\n",
       "      <td>one</td>\n",
       "    </tr>\n",
       "    <tr>\n",
       "      <th>6</th>\n",
       "      <td>1.566</td>\n",
       "      <td>2.323</td>\n",
       "      <td>3.469</td>\n",
       "      <td>2.711</td>\n",
       "      <td>0.24170</td>\n",
       "      <td>0.05371</td>\n",
       "      <td>0.21120</td>\n",
       "      <td>-0.02686</td>\n",
       "      <td>0.2197</td>\n",
       "      <td>1.158</td>\n",
       "      <td>0.9924</td>\n",
       "      <td>4.780</td>\n",
       "      <td>one</td>\n",
       "    </tr>\n",
       "    <tr>\n",
       "      <th>7</th>\n",
       "      <td>1.425</td>\n",
       "      <td>2.152</td>\n",
       "      <td>3.287</td>\n",
       "      <td>2.781</td>\n",
       "      <td>0.29910</td>\n",
       "      <td>0.20750</td>\n",
       "      <td>0.10380</td>\n",
       "      <td>0.11470</td>\n",
       "      <td>0.2698</td>\n",
       "      <td>1.271</td>\n",
       "      <td>1.1150</td>\n",
       "      <td>5.662</td>\n",
       "      <td>one</td>\n",
       "    </tr>\n",
       "    <tr>\n",
       "      <th>8</th>\n",
       "      <td>1.595</td>\n",
       "      <td>2.271</td>\n",
       "      <td>3.323</td>\n",
       "      <td>2.743</td>\n",
       "      <td>0.17330</td>\n",
       "      <td>0.19650</td>\n",
       "      <td>0.16850</td>\n",
       "      <td>0.05859</td>\n",
       "      <td>0.2051</td>\n",
       "      <td>1.290</td>\n",
       "      <td>1.0330</td>\n",
       "      <td>5.145</td>\n",
       "      <td>one</td>\n",
       "    </tr>\n",
       "    <tr>\n",
       "      <th>9</th>\n",
       "      <td>1.628</td>\n",
       "      <td>2.211</td>\n",
       "      <td>3.176</td>\n",
       "      <td>2.710</td>\n",
       "      <td>0.08423</td>\n",
       "      <td>0.18920</td>\n",
       "      <td>0.27830</td>\n",
       "      <td>0.16850</td>\n",
       "      <td>0.3491</td>\n",
       "      <td>1.155</td>\n",
       "      <td>1.0080</td>\n",
       "      <td>5.613</td>\n",
       "      <td>one</td>\n",
       "    </tr>\n",
       "  </tbody>\n",
       "</table>\n",
       "</div>"
      ],
      "text/plain": [
       "   Input 1  Input 2  Input 3  Input 4  Input 5  Input 6  Input 7  Input 8  \\\n",
       "0    1.473    2.311    3.179    2.666  0.27950  0.27710  0.22340  0.18550   \n",
       "1    1.460    2.377    3.214    2.920  0.25270  0.30640  0.02563  0.19650   \n",
       "2    1.552    2.164    3.064    2.745  0.28200  0.21000  0.17210  0.19290   \n",
       "3    1.605    2.228    3.149    2.834  0.29170  0.36130  0.20870  0.12940   \n",
       "4    1.534    2.114    3.309    2.976  0.21000  0.25020  0.22580  0.17700   \n",
       "5    1.796    2.262    3.180    2.888  0.29660  0.14770  0.16240  0.28200   \n",
       "6    1.566    2.323    3.469    2.711  0.24170  0.05371  0.21120 -0.02686   \n",
       "7    1.425    2.152    3.287    2.781  0.29910  0.20750  0.10380  0.11470   \n",
       "8    1.595    2.271    3.323    2.743  0.17330  0.19650  0.16850  0.05859   \n",
       "9    1.628    2.211    3.176    2.710  0.08423  0.18920  0.27830  0.16850   \n",
       "\n",
       "     Input 9  Input 10  Input 11  Input 12 class  \n",
       "0     0.2539     1.138    1.1110     4.712   one  \n",
       "1     0.3027     1.213    1.0270     5.463   one  \n",
       "2     0.2100     1.221    1.0580     5.332   one  \n",
       "3     0.2734     1.144    1.0620     4.829   one  \n",
       "4     0.2039     1.254    1.1120     5.734   one  \n",
       "5 -9999.0000     1.172    1.0300     4.861   one  \n",
       "6     0.2197     1.158    0.9924     4.780   one  \n",
       "7     0.2698     1.271    1.1150     5.662   one  \n",
       "8     0.2051     1.290    1.0330     5.145   one  \n",
       "9     0.3491     1.155    1.0080     5.613   one  "
      ]
     },
     "execution_count": 2,
     "metadata": {},
     "output_type": "execute_result"
    }
   ],
   "source": [
    "df = pd.read_csv('Data/Sensor_Data_Confidential_341Project_DataSet5.csv')\n",
    "df.head(10)"
   ]
  },
  {
   "cell_type": "markdown",
   "id": "9da1876e",
   "metadata": {},
   "source": [
    "### 2) TO DO: Describe the data"
   ]
  },
  {
   "cell_type": "code",
   "execution_count": 3,
   "id": "eabad678",
   "metadata": {},
   "outputs": [
    {
     "data": {
      "text/html": [
       "<div>\n",
       "<style scoped>\n",
       "    .dataframe tbody tr th:only-of-type {\n",
       "        vertical-align: middle;\n",
       "    }\n",
       "\n",
       "    .dataframe tbody tr th {\n",
       "        vertical-align: top;\n",
       "    }\n",
       "\n",
       "    .dataframe thead th {\n",
       "        text-align: right;\n",
       "    }\n",
       "</style>\n",
       "<table border=\"1\" class=\"dataframe\">\n",
       "  <thead>\n",
       "    <tr style=\"text-align: right;\">\n",
       "      <th></th>\n",
       "      <th>Input 1</th>\n",
       "      <th>Input 2</th>\n",
       "      <th>Input 3</th>\n",
       "      <th>Input 4</th>\n",
       "      <th>Input 5</th>\n",
       "      <th>Input 6</th>\n",
       "      <th>Input 7</th>\n",
       "      <th>Input 8</th>\n",
       "      <th>Input 9</th>\n",
       "      <th>Input 10</th>\n",
       "      <th>Input 11</th>\n",
       "      <th>Input 12</th>\n",
       "    </tr>\n",
       "  </thead>\n",
       "  <tbody>\n",
       "    <tr>\n",
       "      <th>count</th>\n",
       "      <td>2064.000000</td>\n",
       "      <td>2064.000000</td>\n",
       "      <td>2064.000000</td>\n",
       "      <td>2064.000000</td>\n",
       "      <td>2064.000000</td>\n",
       "      <td>2064.000000</td>\n",
       "      <td>2064.000000</td>\n",
       "      <td>2064.000000</td>\n",
       "      <td>2064.000000</td>\n",
       "      <td>2064.000000</td>\n",
       "      <td>2064.000000</td>\n",
       "      <td>2064.000000</td>\n",
       "    </tr>\n",
       "    <tr>\n",
       "      <th>mean</th>\n",
       "      <td>-102.944836</td>\n",
       "      <td>-109.711795</td>\n",
       "      <td>-111.319884</td>\n",
       "      <td>-67.994856</td>\n",
       "      <td>-124.949039</td>\n",
       "      <td>-105.066162</td>\n",
       "      <td>-81.658039</td>\n",
       "      <td>-125.587986</td>\n",
       "      <td>-100.835192</td>\n",
       "      <td>-74.740051</td>\n",
       "      <td>-85.312925</td>\n",
       "      <td>-78.599944</td>\n",
       "    </tr>\n",
       "    <tr>\n",
       "      <th>std</th>\n",
       "      <td>1027.427211</td>\n",
       "      <td>1050.057089</td>\n",
       "      <td>1072.729741</td>\n",
       "      <td>849.911071</td>\n",
       "      <td>1115.540299</td>\n",
       "      <td>1027.206775</td>\n",
       "      <td>903.995215</td>\n",
       "      <td>1115.467928</td>\n",
       "      <td>1003.772889</td>\n",
       "      <td>877.403031</td>\n",
       "      <td>930.088695</td>\n",
       "      <td>904.281076</td>\n",
       "    </tr>\n",
       "    <tr>\n",
       "      <th>min</th>\n",
       "      <td>-9999.000000</td>\n",
       "      <td>-9999.000000</td>\n",
       "      <td>-9999.000000</td>\n",
       "      <td>-9999.000000</td>\n",
       "      <td>-9999.000000</td>\n",
       "      <td>-9999.000000</td>\n",
       "      <td>-9999.000000</td>\n",
       "      <td>-9999.000000</td>\n",
       "      <td>-9999.000000</td>\n",
       "      <td>-9999.000000</td>\n",
       "      <td>-9999.000000</td>\n",
       "      <td>-9999.000000</td>\n",
       "    </tr>\n",
       "    <tr>\n",
       "      <th>25%</th>\n",
       "      <td>3.058500</td>\n",
       "      <td>0.817600</td>\n",
       "      <td>4.848250</td>\n",
       "      <td>3.998250</td>\n",
       "      <td>0.462600</td>\n",
       "      <td>0.649400</td>\n",
       "      <td>0.308800</td>\n",
       "      <td>0.188000</td>\n",
       "      <td>0.423600</td>\n",
       "      <td>1.379000</td>\n",
       "      <td>1.089000</td>\n",
       "      <td>0.789800</td>\n",
       "    </tr>\n",
       "    <tr>\n",
       "      <th>50%</th>\n",
       "      <td>4.082000</td>\n",
       "      <td>1.353000</td>\n",
       "      <td>5.336000</td>\n",
       "      <td>5.041000</td>\n",
       "      <td>0.806300</td>\n",
       "      <td>1.634500</td>\n",
       "      <td>0.565200</td>\n",
       "      <td>0.302700</td>\n",
       "      <td>0.694600</td>\n",
       "      <td>1.996000</td>\n",
       "      <td>1.285500</td>\n",
       "      <td>4.915000</td>\n",
       "    </tr>\n",
       "    <tr>\n",
       "      <th>75%</th>\n",
       "      <td>4.504000</td>\n",
       "      <td>2.354250</td>\n",
       "      <td>5.591250</td>\n",
       "      <td>5.642750</td>\n",
       "      <td>1.400750</td>\n",
       "      <td>2.159000</td>\n",
       "      <td>0.959800</td>\n",
       "      <td>0.491900</td>\n",
       "      <td>1.234250</td>\n",
       "      <td>4.974000</td>\n",
       "      <td>1.865250</td>\n",
       "      <td>5.403000</td>\n",
       "    </tr>\n",
       "    <tr>\n",
       "      <th>max</th>\n",
       "      <td>5.105000</td>\n",
       "      <td>4.675000</td>\n",
       "      <td>5.944000</td>\n",
       "      <td>6.013000</td>\n",
       "      <td>2.754000</td>\n",
       "      <td>3.638000</td>\n",
       "      <td>2.446000</td>\n",
       "      <td>1.199000</td>\n",
       "      <td>2.561000</td>\n",
       "      <td>5.312000</td>\n",
       "      <td>5.640000</td>\n",
       "      <td>20.000000</td>\n",
       "    </tr>\n",
       "  </tbody>\n",
       "</table>\n",
       "</div>"
      ],
      "text/plain": [
       "           Input 1      Input 2      Input 3      Input 4      Input 5  \\\n",
       "count  2064.000000  2064.000000  2064.000000  2064.000000  2064.000000   \n",
       "mean   -102.944836  -109.711795  -111.319884   -67.994856  -124.949039   \n",
       "std    1027.427211  1050.057089  1072.729741   849.911071  1115.540299   \n",
       "min   -9999.000000 -9999.000000 -9999.000000 -9999.000000 -9999.000000   \n",
       "25%       3.058500     0.817600     4.848250     3.998250     0.462600   \n",
       "50%       4.082000     1.353000     5.336000     5.041000     0.806300   \n",
       "75%       4.504000     2.354250     5.591250     5.642750     1.400750   \n",
       "max       5.105000     4.675000     5.944000     6.013000     2.754000   \n",
       "\n",
       "           Input 6      Input 7      Input 8      Input 9     Input 10  \\\n",
       "count  2064.000000  2064.000000  2064.000000  2064.000000  2064.000000   \n",
       "mean   -105.066162   -81.658039  -125.587986  -100.835192   -74.740051   \n",
       "std    1027.206775   903.995215  1115.467928  1003.772889   877.403031   \n",
       "min   -9999.000000 -9999.000000 -9999.000000 -9999.000000 -9999.000000   \n",
       "25%       0.649400     0.308800     0.188000     0.423600     1.379000   \n",
       "50%       1.634500     0.565200     0.302700     0.694600     1.996000   \n",
       "75%       2.159000     0.959800     0.491900     1.234250     4.974000   \n",
       "max       3.638000     2.446000     1.199000     2.561000     5.312000   \n",
       "\n",
       "          Input 11     Input 12  \n",
       "count  2064.000000  2064.000000  \n",
       "mean    -85.312925   -78.599944  \n",
       "std     930.088695   904.281076  \n",
       "min   -9999.000000 -9999.000000  \n",
       "25%       1.089000     0.789800  \n",
       "50%       1.285500     4.915000  \n",
       "75%       1.865250     5.403000  \n",
       "max       5.640000    20.000000  "
      ]
     },
     "execution_count": 3,
     "metadata": {},
     "output_type": "execute_result"
    }
   ],
   "source": [
    "df.describe()"
   ]
  },
  {
   "cell_type": "markdown",
   "id": "8329f060",
   "metadata": {},
   "source": [
    "### 3) TO DO: Display the shape of the data"
   ]
  },
  {
   "cell_type": "code",
   "execution_count": 4,
   "id": "7c6c1e90",
   "metadata": {},
   "outputs": [
    {
     "data": {
      "text/plain": [
       "(2064, 13)"
      ]
     },
     "execution_count": 4,
     "metadata": {},
     "output_type": "execute_result"
    }
   ],
   "source": [
    "df.shape"
   ]
  },
  {
   "cell_type": "markdown",
   "id": "dae19ac9",
   "metadata": {},
   "source": [
    "### 4) TO DO: Drop the data"
   ]
  },
  {
   "cell_type": "code",
   "execution_count": 5,
   "id": "62fea705",
   "metadata": {},
   "outputs": [],
   "source": [
    "#First replace any value of -9999 to numpy's, nan type. \n",
    "df = df.replace(-9999, np.nan)\n",
    "df.dropna(inplace = True)"
   ]
  },
  {
   "cell_type": "code",
   "execution_count": 6,
   "id": "27273cc7",
   "metadata": {},
   "outputs": [
    {
     "data": {
      "text/plain": [
       "(1826, 13)"
      ]
     },
     "execution_count": 6,
     "metadata": {},
     "output_type": "execute_result"
    }
   ],
   "source": [
    "#shape of data in dataframe after cleansing\n",
    "df.shape"
   ]
  },
  {
   "cell_type": "markdown",
   "id": "39f1110c",
   "metadata": {},
   "source": [
    "### 5) TO DO: Use pandas correlation method to find the two features (inputs) with the highest correlation"
   ]
  },
  {
   "cell_type": "code",
   "execution_count": 7,
   "id": "3a38fb19",
   "metadata": {},
   "outputs": [
    {
     "data": {
      "text/plain": [
       "<bound method DataFrame.corr of       Input 1  Input 2  Input 3  Input 4  Input 5  Input 6  Input 7  Input 8  \\\n",
       "0       1.473    2.311    3.179    2.666   0.2795   0.2771  0.22340  0.18550   \n",
       "1       1.460    2.377    3.214    2.920   0.2527   0.3064  0.02563  0.19650   \n",
       "2       1.552    2.164    3.064    2.745   0.2820   0.2100  0.17210  0.19290   \n",
       "3       1.605    2.228    3.149    2.834   0.2917   0.3613  0.20870  0.12940   \n",
       "4       1.534    2.114    3.309    2.976   0.2100   0.2502  0.22580  0.17700   \n",
       "...       ...      ...      ...      ...      ...      ...      ...      ...   \n",
       "2059    3.682    1.301    4.939    4.453   0.4895   0.7922  0.23190  0.05005   \n",
       "2060    3.412    1.293    4.949    4.199   0.4578   0.9521  0.21360  0.23070   \n",
       "2061    3.640    1.284    5.111    4.460   0.5786   0.8020  0.26980  0.31740   \n",
       "2062    3.746    1.261    5.049    4.885   0.5835   1.1470  0.32350  0.23070   \n",
       "2063    3.959    1.108    5.422    4.835   0.5579   1.3230  0.51510  0.21000   \n",
       "\n",
       "      Input 9  Input 10  Input 11  Input 12 class  \n",
       "0      0.2539     1.138     1.111     4.712   one  \n",
       "1      0.3027     1.213     1.027     5.463   one  \n",
       "2      0.2100     1.221     1.058     5.332   one  \n",
       "3      0.2734     1.144     1.062     4.829   one  \n",
       "4      0.2039     1.254     1.112     5.734   one  \n",
       "...       ...       ...       ...       ...   ...  \n",
       "2059   0.3687     1.478     1.174     5.125   two  \n",
       "2060   0.4578     1.526     1.167     5.433   two  \n",
       "2061   0.4309     1.460     1.118     4.867   two  \n",
       "2062   0.4614     1.482     1.128     5.627   two  \n",
       "2063   0.5737     1.595     1.244     5.623   two  \n",
       "\n",
       "[1826 rows x 13 columns]>"
      ]
     },
     "execution_count": 7,
     "metadata": {},
     "output_type": "execute_result"
    }
   ],
   "source": [
    "df.corr"
   ]
  },
  {
   "cell_type": "markdown",
   "id": "d93f15bb-2b01-43bc-8af0-0cf6fbf0b834",
   "metadata": {},
   "source": [
    "Inputs 10 and ll are the most highly correlated. "
   ]
  },
  {
   "cell_type": "markdown",
   "id": "21b243f8",
   "metadata": {},
   "source": [
    "<h3 style = \"text-align: Left; color:green\"> Data Visualization </h3>\n",
    "\n",
    "\n",
    "### 6) TO DO: Plot bar charts using pandas dataframe (plot the mean value of the sensors)"
   ]
  },
  {
   "cell_type": "code",
   "execution_count": 8,
   "id": "a1d5ca62",
   "metadata": {},
   "outputs": [
    {
     "name": "stdout",
     "output_type": "stream",
     "text": [
      "The mean values are: \n",
      "Input 1     3.680058\n",
      "Input 2     1.727913\n",
      "Input 3     5.009482\n",
      "Input 4     4.709107\n",
      "Input 5     1.015576\n",
      "Input 6     1.525255\n",
      "Input 7     0.700818\n",
      "Input 8     0.372550\n",
      "Input 9     0.904062\n",
      "Input 10    2.779109\n",
      "Input 11    1.886693\n",
      "Input 12    3.772419\n",
      "dtype: float64\n"
     ]
    },
    {
     "data": {
      "image/png": "[encoded data removed]",
      "text/plain": [
       "<Figure size 1200x500 with 1 Axes>"
      ]
     },
     "metadata": {},
     "output_type": "display_data"
    }
   ],
   "source": [
    "#get column names \n",
    "columns = df.columns.tolist()\n",
    "\n",
    "#exclude last column(class)\n",
    "features = len(columns)-1\n",
    "columns = columns[:features]\n",
    "\n",
    "#get and print the mean values for all sensors\n",
    "print('The mean values are: \\n{}'.format(df.mean(numeric_only=True)))\n",
    "\n",
    "#store mean vlues\n",
    "mean_values = df[:].mean(numeric_only=True)\n",
    "\n",
    "#Plot\n",
    "plt.figure(figsize=(12,5))\n",
    "plt.bar(columns,mean_values)\n",
    "plt.show()"
   ]
  },
  {
   "cell_type": "markdown",
   "id": "c35c3847",
   "metadata": {},
   "source": [
    "<h3 style = \"text-align: Left; color:green\"> Data Preprocessing </h3>\n",
    "\n",
    "### 7) TO DO: Create Feature Matrix and Target Vector"
   ]
  },
  {
   "cell_type": "code",
   "execution_count": 9,
   "id": "bd731712",
   "metadata": {},
   "outputs": [],
   "source": [
    "#defining the features\n",
    "y = df['class']\n",
    "X = df[['Input 1','Input 2','Input 3','Input 4','Input 5','Input 6','Input 7','Input 8','Input 9','Input 10','Input 11', 'Input 12']]"
   ]
  },
  {
   "cell_type": "markdown",
   "id": "bb0dc913",
   "metadata": {},
   "source": [
    "### 8) TO DO: Convert the features dataframe to a numpy array"
   ]
  },
  {
   "cell_type": "code",
   "execution_count": 10,
   "id": "60c474f5",
   "metadata": {},
   "outputs": [
    {
     "data": {
      "text/plain": [
       "array([[1.473, 2.311, 3.179, ..., 1.138, 1.111, 4.712],\n",
       "       [1.46 , 2.377, 3.214, ..., 1.213, 1.027, 5.463],\n",
       "       [1.552, 2.164, 3.064, ..., 1.221, 1.058, 5.332],\n",
       "       ...,\n",
       "       [3.64 , 1.284, 5.111, ..., 1.46 , 1.118, 4.867],\n",
       "       [3.746, 1.261, 5.049, ..., 1.482, 1.128, 5.627],\n",
       "       [3.959, 1.108, 5.422, ..., 1.595, 1.244, 5.623]])"
      ]
     },
     "execution_count": 10,
     "metadata": {},
     "output_type": "execute_result"
    }
   ],
   "source": [
    "y.to_numpy()\n",
    "X.to_numpy()"
   ]
  },
  {
   "cell_type": "markdown",
   "id": "8c2647d2",
   "metadata": {},
   "source": [
    "### 9) TO DO: Label Encoding"
   ]
  },
  {
   "cell_type": "code",
   "execution_count": 11,
   "id": "84621d2c",
   "metadata": {},
   "outputs": [
    {
     "name": "stdout",
     "output_type": "stream",
     "text": [
      "0       one\n",
      "1       one\n",
      "2       one\n",
      "3       one\n",
      "4       one\n",
      "       ... \n",
      "2059    two\n",
      "2060    two\n",
      "2061    two\n",
      "2062    two\n",
      "2063    two\n",
      "Name: class, Length: 1826, dtype: object\n"
     ]
    }
   ],
   "source": [
    "#import label encoder \n",
    "from sklearn.preprocessing import LabelEncoder\n",
    "\n",
    "#instantiate integer encoder\n",
    "label_encoder = LabelEncoder()\n",
    "\n",
    "#encode class labels\n",
    "label_encoder.fit(y)\n",
    "\n",
    "#print the categorical class labels we encoded\n",
    "print(y)"
   ]
  },
  {
   "cell_type": "markdown",
   "id": "c588fe25",
   "metadata": {},
   "source": [
    "### 10) TO DO: Split the data into Training and Testing Sets\n",
    "\n",
    "Scikit learn contains a function called the **train_test_split** function that will randomly shuffle the dataset and then splits it into two datasets: a\n",
    "**training set** used to build the model and a **test set** to assess and evaluate how well the model works on unseen data (also called outof=sample data).\n",
    "\n",
    "### *Using 80%/20% split*"
   ]
  },
  {
   "cell_type": "code",
   "execution_count": 12,
   "id": "35614a32",
   "metadata": {},
   "outputs": [],
   "source": [
    "from sklearn.model_selection import train_test_split\n",
    "\n",
    "#test_size= 0.20 means the test consists of 20% of the data\n",
    "X_train, X_test, y_train, y_test = train_test_split(\n",
    "        X, y, test_size=0.20, random_state = 0)"
   ]
  },
  {
   "cell_type": "markdown",
   "id": "98a19413",
   "metadata": {},
   "source": [
    "### 11) TO DO: Look at the shape of the data (rows and columns) after splitting it into training and testing sets"
   ]
  },
  {
   "cell_type": "code",
   "execution_count": 13,
   "id": "71b6dea4",
   "metadata": {},
   "outputs": [
    {
     "name": "stdout",
     "output_type": "stream",
     "text": [
      "X train.shape: (1460, 12)\n",
      "y train.shape: (1460,)\n",
      "X test.shape: (366, 12)\n",
      "y test.shape: (366,)\n"
     ]
    }
   ],
   "source": [
    "#Displaying the dimensions of the training set\n",
    "print('X train.shape: {}'.format(X_train.shape))\n",
    "print('y train.shape: {}'.format(y_train.shape))\n",
    "#Displaying the dimensions of the test set\n",
    "print('X test.shape: {}'.format(X_test.shape))\n",
    "print('y test.shape: {}'.format(y_test.shape))"
   ]
  },
  {
   "cell_type": "markdown",
   "id": "ff8fce4e",
   "metadata": {},
   "source": [
    "<h3 style = \"text-align: left; color:green\"> Scale the Data </h3>\n",
    "<h3 style = \"text-align: left; color:red\"> IMPORTANT: Standardizing the features:</h3>\n",
    "\n",
    "Standardization of datasets (feature scaling) is a common requirement for many machine learning and optimization algorithms implemented in\n",
    "scikit-learn; they might behave badly if the individual features do not more or less look like standard normally distributed data, i.e., Gaussian\n",
    "with zero mean and unit variance\n",
    "\n",
    "### 12) TO DO: Using the StandarScaler from Scikit-learn to transform (scale) our feature"
   ]
  },
  {
   "cell_type": "code",
   "execution_count": 14,
   "id": "ca27554b",
   "metadata": {},
   "outputs": [],
   "source": [
    "from sklearn.preprocessing import StandardScaler\n",
    "scaler = StandardScaler()\n",
    "\n",
    "scaler.fit(X_train)\n",
    "X_train_std = scaler.transform(X_train)\n",
    "X_test_std =scaler.transform(X_test)"
   ]
  },
  {
   "cell_type": "markdown",
   "id": "5eab3a60",
   "metadata": {},
   "source": [
    "**A comment on what the above code does**\n",
    "\n",
    "* Using the preceding code, we loaded the StandardScaler class from the preprocessing module and initialized a new StandardScaler objectthat we assigned to the variable sc.\n",
    "* Using the fit method, StandardScaler estimated the parameters μ (sample mean) and (standard deviation) for each feature dimensionfrom the training data.\n",
    "* By calling the transform method, we then standardized the training data using those estimated parameters μ and .\n",
    "* Note that we used the same scaling parameters to standardize the test set so that both the values in the training and test dataset are comparable to each other\n",
    "\n",
    "<h3 style = \"text-align: left; color:green\"> Model Building </h3>\n",
    "\n",
    "**Training multiple Machine Learning models during same session.** \n",
    "1. K-Nearest Neighbor (with K=10, K=50, K=200)\n",
    "2. Logistic Regression\n",
    "3. Linear Support Vector Classifier\n",
    "\n",
    "<h3 style = \"text-align: left; color:green\"> Build a KNN Classification Model for K = 10, 50 and 200 </h3>\n",
    "\n",
    "### 13) Build and train the actual machine learning model using a loop"
   ]
  },
  {
   "cell_type": "code",
   "execution_count": 15,
   "id": "0b21fbbb",
   "metadata": {},
   "outputs": [
    {
     "name": "stdout",
     "output_type": "stream",
     "text": [
      "Model's acccuracy on Test set for K = 10 is :0.98\n",
      "\n",
      "Model's acccuracy on Test set for K = 50 is :0.93\n",
      "\n",
      "Model's acccuracy on Test set for K = 200 is :0.86\n",
      "\n"
     ]
    }
   ],
   "source": [
    "from sklearn.neighbors import KNeighborsClassifier\n",
    "numbers =[10,50,200]\n",
    "knn_objects = []\n",
    "#model selection process\n",
    "for numb in numbers:\n",
    "    knn = KNeighborsClassifier(n_neighbors=numb)\n",
    "    knn.fit(X_train, y_train)\n",
    "    knn_objects.append(knn)\n",
    "    print(\"Model's acccuracy on Test set for K = {0} is :{1:0.2f}\\n\".format(numb,knn.score(X_test,y_test)))\n",
    "#pick K-nearest neighbors\n",
    "\n",
    "\n"
   ]
  },
  {
   "cell_type": "markdown",
   "id": "e9965f1f",
   "metadata": {},
   "source": [
    "### Predicting class-membership probabilites\n",
    "\n",
    "Scikit-Learn has a method that allows prediction of class member probabilities.\n",
    "\n",
    "The probability that training examples belong to a certain class can be computed using the **predict_proba** method. For example, we canpredict the probabilities of the first three samples in the test set as follows (NOTE: X_test_std[:3. :] means get the first 3 rows and the associated columns from the test dataset X_test):\n",
    "\n",
    "classifier.predict_proba(X_test_std[:3, :]) where classifier is either K-NN or Logistic Regression\n",
    "\n",
    "In the cells below, your must predict the **class-membership probabilities** for each specified **SINGLE ROW OF DATA**\n",
    "\n",
    "Also, you should recall that the label encoding that we implemented earlier resulted in the mapping:\n",
    "\n",
    "**class membership label indices after encoding**\n",
    "0 = 'one' (the Substance is Substance 1)\n",
    "1 = 'three' (false alarm)\n",
    "2 = 'two' (The Substance is Substance 2)\n",
    "\n",
    "### ***************************************************14) TO DO:class-membership probability\n",
    "\n",
    "Predict the class membership probability by using the a row with **index = 10** from the X_test_std data. Make sure your print statement uses a complete sentence and be sure to compare your prediction with the correct answer using the corresponding row from the test set labels, y_test."
   ]
  },
  {
   "cell_type": "code",
   "execution_count": 16,
   "id": "e47c9d90",
   "metadata": {},
   "outputs": [
    {
     "name": "stdout",
     "output_type": "stream",
     "text": [
      "The predicted membership probabibility of the 10th row is: [[1. 0. 0.]]\n",
      "The actual class membership is: one\n"
     ]
    },
    {
     "name": "stderr",
     "output_type": "stream",
     "text": [
      "/Users/jordan/anaconda3/lib/python3.11/site-packages/sklearn/base.py:464: UserWarning: X does not have valid feature names, but KNeighborsClassifier was fitted with feature names\n",
      "  warnings.warn(\n"
     ]
    }
   ],
   "source": [
    "print(f'The predicted membership probabibility of the 10th row is: {knn_objects[0].predict_proba(X_test_std[9,:].reshape(1, -1))}')\n",
    "print(f'The actual class membership is: {y_test[10]}')\n"
   ]
  },
  {
   "cell_type": "markdown",
   "id": "30741aad",
   "metadata": {},
   "source": [
    "### 15) TO DO:class-membership probability\n",
    "\n",
    "Predict the class membership probability by using the a row with **index = 125** from the X_test_std data. Make sure your print statement uses a complete sentence and be sure to compare your prediction with the correct answer using the corresponding row from the test set labels, y_test."
   ]
  },
  {
   "cell_type": "code",
   "execution_count": 17,
   "id": "7178d8b9",
   "metadata": {},
   "outputs": [
    {
     "name": "stdout",
     "output_type": "stream",
     "text": [
      "The predicted membership probabibility of the 125th row is: [[0.98 0.   0.02]]\n"
     ]
    },
    {
     "name": "stderr",
     "output_type": "stream",
     "text": [
      "/Users/jordan/anaconda3/lib/python3.11/site-packages/sklearn/base.py:464: UserWarning: X does not have valid feature names, but KNeighborsClassifier was fitted with feature names\n",
      "  warnings.warn(\n"
     ]
    }
   ],
   "source": [
    "print(f'The predicted membership probabibility of the 125th row is: {knn_objects[1].predict_proba(X_test_std[124,:].reshape(1, -1))}')\n",
    "#print(f'The actual class membership is: {y_test[124]}')"
   ]
  },
  {
   "cell_type": "markdown",
   "id": "1d3f6c05",
   "metadata": {},
   "source": [
    "### 16) TO DO:class-membership probability\n",
    "\n",
    "Predict the class membership probability by using the a row with **index = 200** from the X_test_std data. Make sure your print statement uses a complete sentence and be sure to compare your prediction with the correct answer using the corresponding row from the test set labels, y_test."
   ]
  },
  {
   "cell_type": "code",
   "execution_count": 18,
   "id": "1a5235f5",
   "metadata": {},
   "outputs": [
    {
     "name": "stdout",
     "output_type": "stream",
     "text": [
      "The predicted membership probabibility of the 200th row is: [[1. 0. 0.]]\n"
     ]
    },
    {
     "name": "stderr",
     "output_type": "stream",
     "text": [
      "/Users/jordan/anaconda3/lib/python3.11/site-packages/sklearn/base.py:464: UserWarning: X does not have valid feature names, but KNeighborsClassifier was fitted with feature names\n",
      "  warnings.warn(\n"
     ]
    }
   ],
   "source": [
    "print(f'The predicted membership probabibility of the 200th row is: {knn_objects[2].predict_proba(X_test_std[199,:].reshape(1, -1))}')\n",
    "#print(f'The actual class membership is: {y_test[200]}')"
   ]
  },
  {
   "cell_type": "markdown",
   "id": "23e198cd",
   "metadata": {},
   "source": [
    "<h2 style = \"text-align: left; color:green\"> Build Logistic Regresion Model </h2>\n",
    "\n",
    "### 17) TO DO: scikit-learn Logistic Regression for this lab\n",
    "**Import and instantiate the *Logistic Regression* Model in SciKit-Learn is in the cell below**"
   ]
  },
  {
   "cell_type": "code",
   "execution_count": 19,
   "id": "f81acf0f",
   "metadata": {},
   "outputs": [],
   "source": [
    "#instatiating the LinearRegression() mething\n",
    "from sklearn.linear_model import LogisticRegression\n",
    "lr = LogisticRegression(solver = 'newton-cg',\n",
    "                       multi_class = 'multinomial',\n",
    "                       random_state=0)"
   ]
  },
  {
   "cell_type": "markdown",
   "id": "80d80e0b",
   "metadata": {},
   "source": [
    "### 18) TO DO: Train the model by calling the model's fit function\n",
    "\n",
    "Now that the model has been instantiated (created) it still needs to be trained (fitted) to the training dataset."
   ]
  },
  {
   "cell_type": "code",
   "execution_count": 20,
   "id": "f7e2f228",
   "metadata": {},
   "outputs": [
    {
     "data": {
      "text/html": [
       "<style>#sk-container-id-1 {color: black;}#sk-container-id-1 pre{padding: 0;}#sk-container-id-1 div.sk-toggleable {background-color: white;}#sk-container-id-1 label.sk-toggleable__label {cursor: pointer;display: block;width: 100%;margin-bottom: 0;padding: 0.3em;box-sizing: border-box;text-align: center;}#sk-container-id-1 label.sk-toggleable__label-arrow:before {content: \"▸\";float: left;margin-right: 0.25em;color: #696969;}#sk-container-id-1 label.sk-toggleable__label-arrow:hover:before {color: black;}#sk-container-id-1 div.sk-estimator:hover label.sk-toggleable__label-arrow:before {color: black;}#sk-container-id-1 div.sk-toggleable__content {max-height: 0;max-width: 0;overflow: hidden;text-align: left;background-color: #f0f8ff;}#sk-container-id-1 div.sk-toggleable__content pre {margin: 0.2em;color: black;border-radius: 0.25em;background-color: #f0f8ff;}#sk-container-id-1 input.sk-toggleable__control:checked~div.sk-toggleable__content {max-height: 200px;max-width: 100%;overflow: auto;}#sk-container-id-1 input.sk-toggleable__control:checked~label.sk-toggleable__label-arrow:before {content: \"▾\";}#sk-container-id-1 div.sk-estimator input.sk-toggleable__control:checked~label.sk-toggleable__label {background-color: #d4ebff;}#sk-container-id-1 div.sk-label input.sk-toggleable__control:checked~label.sk-toggleable__label {background-color: #d4ebff;}#sk-container-id-1 input.sk-hidden--visually {border: 0;clip: rect(1px 1px 1px 1px);clip: rect(1px, 1px, 1px, 1px);height: 1px;margin: -1px;overflow: hidden;padding: 0;position: absolute;width: 1px;}#sk-container-id-1 div.sk-estimator {font-family: monospace;background-color: #f0f8ff;border: 1px dotted black;border-radius: 0.25em;box-sizing: border-box;margin-bottom: 0.5em;}#sk-container-id-1 div.sk-estimator:hover {background-color: #d4ebff;}#sk-container-id-1 div.sk-parallel-item::after {content: \"\";width: 100%;border-bottom: 1px solid gray;flex-grow: 1;}#sk-container-id-1 div.sk-label:hover label.sk-toggleable__label {background-color: #d4ebff;}#sk-container-id-1 div.sk-serial::before {content: \"\";position: absolute;border-left: 1px solid gray;box-sizing: border-box;top: 0;bottom: 0;left: 50%;z-index: 0;}#sk-container-id-1 div.sk-serial {display: flex;flex-direction: column;align-items: center;background-color: white;padding-right: 0.2em;padding-left: 0.2em;position: relative;}#sk-container-id-1 div.sk-item {position: relative;z-index: 1;}#sk-container-id-1 div.sk-parallel {display: flex;align-items: stretch;justify-content: center;background-color: white;position: relative;}#sk-container-id-1 div.sk-item::before, #sk-container-id-1 div.sk-parallel-item::before {content: \"\";position: absolute;border-left: 1px solid gray;box-sizing: border-box;top: 0;bottom: 0;left: 50%;z-index: -1;}#sk-container-id-1 div.sk-parallel-item {display: flex;flex-direction: column;z-index: 1;position: relative;background-color: white;}#sk-container-id-1 div.sk-parallel-item:first-child::after {align-self: flex-end;width: 50%;}#sk-container-id-1 div.sk-parallel-item:last-child::after {align-self: flex-start;width: 50%;}#sk-container-id-1 div.sk-parallel-item:only-child::after {width: 0;}#sk-container-id-1 div.sk-dashed-wrapped {border: 1px dashed gray;margin: 0 0.4em 0.5em 0.4em;box-sizing: border-box;padding-bottom: 0.4em;background-color: white;}#sk-container-id-1 div.sk-label label {font-family: monospace;font-weight: bold;display: inline-block;line-height: 1.2em;}#sk-container-id-1 div.sk-label-container {text-align: center;}#sk-container-id-1 div.sk-container {/* jupyter's `normalize.less` sets `[hidden] { display: none; }` but bootstrap.min.css set `[hidden] { display: none !important; }` so we also need the `!important` here to be able to override the default hidden behavior on the sphinx rendered scikit-learn.org. See: https://github.com/scikit-learn/scikit-learn/issues/21755 */display: inline-block !important;position: relative;}#sk-container-id-1 div.sk-text-repr-fallback {display: none;}</style><div id=\"sk-container-id-1\" class=\"sk-top-container\"><div class=\"sk-text-repr-fallback\"><pre>LogisticRegression(multi_class=&#x27;multinomial&#x27;, random_state=0,\n",
       "                   solver=&#x27;newton-cg&#x27;)</pre><b>In a Jupyter environment, please rerun this cell to show the HTML representation or trust the notebook. <br />On GitHub, the HTML representation is unable to render, please try loading this page with nbviewer.org.</b></div><div class=\"sk-container\" hidden><div class=\"sk-item\"><div class=\"sk-estimator sk-toggleable\"><input class=\"sk-toggleable__control sk-hidden--visually\" id=\"sk-estimator-id-1\" type=\"checkbox\" checked><label for=\"sk-estimator-id-1\" class=\"sk-toggleable__label sk-toggleable__label-arrow\">LogisticRegression</label><div class=\"sk-toggleable__content\"><pre>LogisticRegression(multi_class=&#x27;multinomial&#x27;, random_state=0,\n",
       "                   solver=&#x27;newton-cg&#x27;)</pre></div></div></div></div></div>"
      ],
      "text/plain": [
       "LogisticRegression(multi_class='multinomial', random_state=0,\n",
       "                   solver='newton-cg')"
      ]
     },
     "execution_count": 20,
     "metadata": {},
     "output_type": "execute_result"
    }
   ],
   "source": [
    "#calling the model's fit function\n",
    "lr.fit(X_train, y_train)"
   ]
  },
  {
   "cell_type": "markdown",
   "id": "ff9fe5dc",
   "metadata": {},
   "source": [
    "### 19) TO DO: Evaluate the Logistic Regression Model\n",
    "Use the test set to create the model's predictions. Name the prediction vector **y_pred** as in previous notebooks."
   ]
  },
  {
   "cell_type": "code",
   "execution_count": 21,
   "id": "4a7f3d06",
   "metadata": {},
   "outputs": [
    {
     "name": "stdout",
     "output_type": "stream",
     "text": [
      "Test set prediction: \n",
      " ['three' 'three' 'one' 'one' 'three' 'three' 'one' 'two' 'one' 'one' 'two'\n",
      " 'two' 'two' 'one' 'three' 'one' 'two' 'one' 'three' 'two' 'three' 'one'\n",
      " 'two' 'two' 'one' 'one' 'two' 'three' 'three' 'one' 'two' 'two' 'two'\n",
      " 'one' 'two' 'two' 'one' 'one' 'two' 'two' 'one' 'three' 'one' 'three'\n",
      " 'three' 'three' 'two' 'two' 'three' 'one' 'three' 'three' 'one' 'one'\n",
      " 'three' 'one' 'two' 'two' 'one' 'one' 'one' 'two' 'one' 'one' 'two' 'two'\n",
      " 'one' 'two' 'one' 'two' 'one' 'three' 'one' 'one' 'two' 'three' 'one'\n",
      " 'one' 'two' 'three' 'three' 'one' 'three' 'two' 'two' 'one' 'two' 'two'\n",
      " 'three' 'one' 'one' 'one' 'two' 'two' 'one' 'two' 'one' 'two' 'two' 'two'\n",
      " 'one' 'three' 'one' 'two' 'one' 'two' 'two' 'one' 'three' 'two' 'two'\n",
      " 'two' 'one' 'one' 'one' 'one' 'three' 'one' 'two' 'one' 'three' 'three'\n",
      " 'one' 'one' 'two' 'two' 'two' 'three' 'two' 'one' 'one' 'three' 'one'\n",
      " 'three' 'two' 'one' 'two' 'two' 'two' 'three' 'two' 'two' 'one' 'two'\n",
      " 'two' 'two' 'two' 'two' 'one' 'one' 'one' 'two' 'two' 'one' 'two' 'two'\n",
      " 'two' 'two' 'two' 'one' 'two' 'one' 'one' 'two' 'one' 'two' 'one' 'two'\n",
      " 'three' 'one' 'two' 'two' 'two' 'two' 'one' 'two' 'two' 'one' 'two' 'two'\n",
      " 'one' 'two' 'three' 'three' 'three' 'two' 'one' 'one' 'two' 'two' 'two'\n",
      " 'one' 'one' 'one' 'one' 'two' 'two' 'three' 'three' 'one' 'one' 'one'\n",
      " 'one' 'two' 'two' 'three' 'one' 'one' 'one' 'three' 'one' 'two' 'three'\n",
      " 'one' 'three' 'two' 'one' 'one' 'one' 'two' 'two' 'one' 'two' 'two'\n",
      " 'three' 'one' 'two' 'one' 'one' 'three' 'one' 'one' 'two' 'one' 'two'\n",
      " 'one' 'two' 'one' 'two' 'two' 'one' 'two' 'three' 'three' 'one' 'two'\n",
      " 'one' 'three' 'one' 'two' 'three' 'two' 'two' 'one' 'one' 'one' 'three'\n",
      " 'one' 'two' 'two' 'one' 'three' 'one' 'three' 'one' 'three' 'two' 'two'\n",
      " 'two' 'one' 'one' 'one' 'one' 'two' 'one' 'two' 'one' 'three' 'one'\n",
      " 'three' 'three' 'one' 'two' 'one' 'two' 'two' 'three' 'two' 'two' 'three'\n",
      " 'two' 'one' 'two' 'three' 'three' 'two' 'three' 'one' 'three' 'three'\n",
      " 'one' 'three' 'three' 'three' 'two' 'two' 'one' 'one' 'three' 'one' 'one'\n",
      " 'two' 'three' 'two' 'two' 'two' 'two' 'two' 'two' 'one' 'three' 'one'\n",
      " 'three' 'three' 'one' 'two' 'one' 'three' 'two' 'one' 'two' 'two' 'two'\n",
      " 'one' 'three' 'three' 'one' 'two' 'three' 'one' 'two' 'one' 'three' 'one'\n",
      " 'two' 'three' 'two' 'one' 'three' 'two' 'two' 'one' 'three' 'two' 'one'\n",
      " 'two' 'one' 'one' 'one' 'three' 'one' 'one' 'two' 'two' 'one' 'one']\n"
     ]
    }
   ],
   "source": [
    "y_pred = lr.predict(X_test)\n",
    "print(\"Test set prediction: \\n {}\".format(y_pred))"
   ]
  },
  {
   "cell_type": "markdown",
   "id": "02e9a401",
   "metadata": {},
   "source": [
    "### 20) TO DO: Evaluate the Logistic Regression Model's Performance\n",
    "Use SciKit Learn's built-in scoring method to evaluate the model's performance accuracy"
   ]
  },
  {
   "cell_type": "code",
   "execution_count": 22,
   "id": "d70e83b3",
   "metadata": {},
   "outputs": [
    {
     "name": "stdout",
     "output_type": "stream",
     "text": [
      "Actual Values: \n",
      " 894     three\n",
      "889     three\n",
      "132       one\n",
      "357       one\n",
      "1001    three\n",
      "        ...  \n",
      "422       one\n",
      "815       two\n",
      "1923      two\n",
      "307       one\n",
      "253       one\n",
      "Name: class, Length: 366, dtype: object\n",
      "Test accuracy: \n",
      " 0.98\n",
      "Number of misclassified instances: \n",
      " 9\n"
     ]
    }
   ],
   "source": [
    "print(\"Actual Values: \\n {}\".format(y_test))\n",
    "print('Test accuracy: \\n {0:0.2f}'.format(lr.score(X_test,y_test)))\n",
    "misclassified = np.sum(y_test != y_pred)\n",
    "print(\"Number of misclassified instances: \\n {}\".format(misclassified))"
   ]
  },
  {
   "cell_type": "markdown",
   "id": "4a1748f5",
   "metadata": {},
   "source": [
    "### Predicting class-membership probabilities using the Logistic Regression Model\n",
    "\n",
    "### 21) TO DO:class-membership probability\n",
    "Predict the class membership probability by using the a row with **index = 10** from the X_test_std data. Make sure your print statement uses a\n",
    "complete sentence and be sure to compare your prediction with the correct answer using the corresponding row from the test set labels, y_test."
   ]
  },
  {
   "cell_type": "code",
   "execution_count": 23,
   "id": "48f366a4",
   "metadata": {},
   "outputs": [
    {
     "ename": "InvalidIndexError",
     "evalue": "(slice(None, 3, None), slice(None, None, None))",
     "output_type": "error",
     "traceback": [
      "\u001b[0;31m---------------------------------------------------------------------------\u001b[0m",
      "\u001b[0;31mTypeError\u001b[0m                                 Traceback (most recent call last)",
      "File \u001b[0;32m~/anaconda3/lib/python3.11/site-packages/pandas/core/indexes/base.py:3653\u001b[0m, in \u001b[0;36mIndex.get_loc\u001b[0;34m(self, key)\u001b[0m\n\u001b[1;32m   3652\u001b[0m \u001b[38;5;28;01mtry\u001b[39;00m:\n\u001b[0;32m-> 3653\u001b[0m     \u001b[38;5;28;01mreturn\u001b[39;00m \u001b[38;5;28mself\u001b[39m\u001b[38;5;241m.\u001b[39m_engine\u001b[38;5;241m.\u001b[39mget_loc(casted_key)\n\u001b[1;32m   3654\u001b[0m \u001b[38;5;28;01mexcept\u001b[39;00m \u001b[38;5;167;01mKeyError\u001b[39;00m \u001b[38;5;28;01mas\u001b[39;00m err:\n",
      "File \u001b[0;32m~/anaconda3/lib/python3.11/site-packages/pandas/_libs/index.pyx:147\u001b[0m, in \u001b[0;36mpandas._libs.index.IndexEngine.get_loc\u001b[0;34m()\u001b[0m\n",
      "File \u001b[0;32m~/anaconda3/lib/python3.11/site-packages/pandas/_libs/index.pyx:153\u001b[0m, in \u001b[0;36mpandas._libs.index.IndexEngine.get_loc\u001b[0;34m()\u001b[0m\n",
      "\u001b[0;31mTypeError\u001b[0m: '(slice(None, 3, None), slice(None, None, None))' is an invalid key",
      "\nDuring handling of the above exception, another exception occurred:\n",
      "\u001b[0;31mInvalidIndexError\u001b[0m                         Traceback (most recent call last)",
      "Cell \u001b[0;32mIn[23], line 1\u001b[0m\n\u001b[0;32m----> 1\u001b[0m lr\u001b[38;5;241m.\u001b[39mpredict_proba(X_test[:\u001b[38;5;241m3\u001b[39m, :])\n",
      "File \u001b[0;32m~/anaconda3/lib/python3.11/site-packages/pandas/core/frame.py:3761\u001b[0m, in \u001b[0;36mDataFrame.__getitem__\u001b[0;34m(self, key)\u001b[0m\n\u001b[1;32m   3759\u001b[0m \u001b[38;5;28;01mif\u001b[39;00m \u001b[38;5;28mself\u001b[39m\u001b[38;5;241m.\u001b[39mcolumns\u001b[38;5;241m.\u001b[39mnlevels \u001b[38;5;241m>\u001b[39m \u001b[38;5;241m1\u001b[39m:\n\u001b[1;32m   3760\u001b[0m     \u001b[38;5;28;01mreturn\u001b[39;00m \u001b[38;5;28mself\u001b[39m\u001b[38;5;241m.\u001b[39m_getitem_multilevel(key)\n\u001b[0;32m-> 3761\u001b[0m indexer \u001b[38;5;241m=\u001b[39m \u001b[38;5;28mself\u001b[39m\u001b[38;5;241m.\u001b[39mcolumns\u001b[38;5;241m.\u001b[39mget_loc(key)\n\u001b[1;32m   3762\u001b[0m \u001b[38;5;28;01mif\u001b[39;00m is_integer(indexer):\n\u001b[1;32m   3763\u001b[0m     indexer \u001b[38;5;241m=\u001b[39m [indexer]\n",
      "File \u001b[0;32m~/anaconda3/lib/python3.11/site-packages/pandas/core/indexes/base.py:3660\u001b[0m, in \u001b[0;36mIndex.get_loc\u001b[0;34m(self, key)\u001b[0m\n\u001b[1;32m   3655\u001b[0m     \u001b[38;5;28;01mraise\u001b[39;00m \u001b[38;5;167;01mKeyError\u001b[39;00m(key) \u001b[38;5;28;01mfrom\u001b[39;00m \u001b[38;5;21;01merr\u001b[39;00m\n\u001b[1;32m   3656\u001b[0m \u001b[38;5;28;01mexcept\u001b[39;00m \u001b[38;5;167;01mTypeError\u001b[39;00m:\n\u001b[1;32m   3657\u001b[0m     \u001b[38;5;66;03m# If we have a listlike key, _check_indexing_error will raise\u001b[39;00m\n\u001b[1;32m   3658\u001b[0m     \u001b[38;5;66;03m#  InvalidIndexError. Otherwise we fall through and re-raise\u001b[39;00m\n\u001b[1;32m   3659\u001b[0m     \u001b[38;5;66;03m#  the TypeError.\u001b[39;00m\n\u001b[0;32m-> 3660\u001b[0m     \u001b[38;5;28mself\u001b[39m\u001b[38;5;241m.\u001b[39m_check_indexing_error(key)\n\u001b[1;32m   3661\u001b[0m     \u001b[38;5;28;01mraise\u001b[39;00m\n",
      "File \u001b[0;32m~/anaconda3/lib/python3.11/site-packages/pandas/core/indexes/base.py:5737\u001b[0m, in \u001b[0;36mIndex._check_indexing_error\u001b[0;34m(self, key)\u001b[0m\n\u001b[1;32m   5733\u001b[0m \u001b[38;5;28;01mdef\u001b[39;00m \u001b[38;5;21m_check_indexing_error\u001b[39m(\u001b[38;5;28mself\u001b[39m, key):\n\u001b[1;32m   5734\u001b[0m     \u001b[38;5;28;01mif\u001b[39;00m \u001b[38;5;129;01mnot\u001b[39;00m is_scalar(key):\n\u001b[1;32m   5735\u001b[0m         \u001b[38;5;66;03m# if key is not a scalar, directly raise an error (the code below\u001b[39;00m\n\u001b[1;32m   5736\u001b[0m         \u001b[38;5;66;03m# would convert to numpy arrays and raise later any way) - GH29926\u001b[39;00m\n\u001b[0;32m-> 5737\u001b[0m         \u001b[38;5;28;01mraise\u001b[39;00m InvalidIndexError(key)\n",
      "\u001b[0;31mInvalidIndexError\u001b[0m: (slice(None, 3, None), slice(None, None, None))"
     ]
    }
   ],
   "source": [
    "print('The predicted probablity for belonging to the class[class=0 class=1] are{0}'.format(lr.predict_proba(X_test[9,:])))\n"
   ]
  },
  {
   "cell_type": "markdown",
   "id": "69487fbc",
   "metadata": {},
   "source": [
    "### 22) TO DO:class-membership probability\n",
    "Predict the class membership probability by using the a row with **index = 130** from the X_test_std data. Make sure your print statement uses a complete sentence and be sure to compare your prediction with the correct answer using the corresponding row from the test set labels, y_test."
   ]
  },
  {
   "cell_type": "code",
   "execution_count": null,
   "id": "5ba0f063",
   "metadata": {},
   "outputs": [],
   "source": [
    "print('The predicted probablity for belonging to the class[class=0 class=1] are{0}'.format(lr.predict_proba(X_test[129,:])))\n"
   ]
  },
  {
   "cell_type": "markdown",
   "id": "2e424d56",
   "metadata": {},
   "source": [
    "### 23) TO DO:class-membership probability\n",
    "Predict the class membership probability by using the a row with **index = 200** from the X_test_std data. Make sure your print statement uses a\n",
    "complete sentence and be sure to compare your prediction with the correct answer using the corresponding row from the test set labels, y_test."
   ]
  },
  {
   "cell_type": "code",
   "execution_count": null,
   "id": "1a255623",
   "metadata": {},
   "outputs": [],
   "source": [
    "print('The predicted probablity for belonging to the class[class=0 class=1] are{0}'.format(lr.predict_proba(X_test[199,:])))\n"
   ]
  },
  {
   "cell_type": "markdown",
   "id": "62bd8331",
   "metadata": {},
   "source": [
    "<h2 style = \"text-align: left; color:green\"> Build Linear Support Vector Classifier Model </h2>\n",
    "\n",
    "### 24) TO DO:scikit-learn Linear Support Vector Classifier for this lab\n",
    "\n",
    "**Import and instantiate the Linear Support Vector Classifier Model in SciKit-Learn is in the cell below**"
   ]
  },
  {
   "cell_type": "code",
   "execution_count": 24,
   "id": "a4cd66a9",
   "metadata": {},
   "outputs": [],
   "source": [
    "from sklearn.svm import LinearSVC\n",
    "#instantiate the model and fit the data\n",
    "lsvc=LinearSVC()"
   ]
  },
  {
   "cell_type": "markdown",
   "id": "593d9ed8",
   "metadata": {},
   "source": [
    "### 25) TO DO: Train the model by calling the model's fit function\n",
    "Now that the model has been instantiated (created) it still needs to be trained (fitted) to the training dataset"
   ]
  },
  {
   "cell_type": "code",
   "execution_count": 25,
   "id": "8a87f900",
   "metadata": {},
   "outputs": [
    {
     "name": "stderr",
     "output_type": "stream",
     "text": [
      "/Users/jordan/anaconda3/lib/python3.11/site-packages/sklearn/svm/_classes.py:32: FutureWarning: The default value of `dual` will change from `True` to `'auto'` in 1.5. Set the value of `dual` explicitly to suppress the warning.\n",
      "  warnings.warn(\n",
      "/Users/jordan/anaconda3/lib/python3.11/site-packages/sklearn/svm/_base.py:1242: ConvergenceWarning: Liblinear failed to converge, increase the number of iterations.\n",
      "  warnings.warn(\n"
     ]
    },
    {
     "data": {
      "text/html": [
       "<style>#sk-container-id-2 {color: black;}#sk-container-id-2 pre{padding: 0;}#sk-container-id-2 div.sk-toggleable {background-color: white;}#sk-container-id-2 label.sk-toggleable__label {cursor: pointer;display: block;width: 100%;margin-bottom: 0;padding: 0.3em;box-sizing: border-box;text-align: center;}#sk-container-id-2 label.sk-toggleable__label-arrow:before {content: \"▸\";float: left;margin-right: 0.25em;color: #696969;}#sk-container-id-2 label.sk-toggleable__label-arrow:hover:before {color: black;}#sk-container-id-2 div.sk-estimator:hover label.sk-toggleable__label-arrow:before {color: black;}#sk-container-id-2 div.sk-toggleable__content {max-height: 0;max-width: 0;overflow: hidden;text-align: left;background-color: #f0f8ff;}#sk-container-id-2 div.sk-toggleable__content pre {margin: 0.2em;color: black;border-radius: 0.25em;background-color: #f0f8ff;}#sk-container-id-2 input.sk-toggleable__control:checked~div.sk-toggleable__content {max-height: 200px;max-width: 100%;overflow: auto;}#sk-container-id-2 input.sk-toggleable__control:checked~label.sk-toggleable__label-arrow:before {content: \"▾\";}#sk-container-id-2 div.sk-estimator input.sk-toggleable__control:checked~label.sk-toggleable__label {background-color: #d4ebff;}#sk-container-id-2 div.sk-label input.sk-toggleable__control:checked~label.sk-toggleable__label {background-color: #d4ebff;}#sk-container-id-2 input.sk-hidden--visually {border: 0;clip: rect(1px 1px 1px 1px);clip: rect(1px, 1px, 1px, 1px);height: 1px;margin: -1px;overflow: hidden;padding: 0;position: absolute;width: 1px;}#sk-container-id-2 div.sk-estimator {font-family: monospace;background-color: #f0f8ff;border: 1px dotted black;border-radius: 0.25em;box-sizing: border-box;margin-bottom: 0.5em;}#sk-container-id-2 div.sk-estimator:hover {background-color: #d4ebff;}#sk-container-id-2 div.sk-parallel-item::after {content: \"\";width: 100%;border-bottom: 1px solid gray;flex-grow: 1;}#sk-container-id-2 div.sk-label:hover label.sk-toggleable__label {background-color: #d4ebff;}#sk-container-id-2 div.sk-serial::before {content: \"\";position: absolute;border-left: 1px solid gray;box-sizing: border-box;top: 0;bottom: 0;left: 50%;z-index: 0;}#sk-container-id-2 div.sk-serial {display: flex;flex-direction: column;align-items: center;background-color: white;padding-right: 0.2em;padding-left: 0.2em;position: relative;}#sk-container-id-2 div.sk-item {position: relative;z-index: 1;}#sk-container-id-2 div.sk-parallel {display: flex;align-items: stretch;justify-content: center;background-color: white;position: relative;}#sk-container-id-2 div.sk-item::before, #sk-container-id-2 div.sk-parallel-item::before {content: \"\";position: absolute;border-left: 1px solid gray;box-sizing: border-box;top: 0;bottom: 0;left: 50%;z-index: -1;}#sk-container-id-2 div.sk-parallel-item {display: flex;flex-direction: column;z-index: 1;position: relative;background-color: white;}#sk-container-id-2 div.sk-parallel-item:first-child::after {align-self: flex-end;width: 50%;}#sk-container-id-2 div.sk-parallel-item:last-child::after {align-self: flex-start;width: 50%;}#sk-container-id-2 div.sk-parallel-item:only-child::after {width: 0;}#sk-container-id-2 div.sk-dashed-wrapped {border: 1px dashed gray;margin: 0 0.4em 0.5em 0.4em;box-sizing: border-box;padding-bottom: 0.4em;background-color: white;}#sk-container-id-2 div.sk-label label {font-family: monospace;font-weight: bold;display: inline-block;line-height: 1.2em;}#sk-container-id-2 div.sk-label-container {text-align: center;}#sk-container-id-2 div.sk-container {/* jupyter's `normalize.less` sets `[hidden] { display: none; }` but bootstrap.min.css set `[hidden] { display: none !important; }` so we also need the `!important` here to be able to override the default hidden behavior on the sphinx rendered scikit-learn.org. See: https://github.com/scikit-learn/scikit-learn/issues/21755 */display: inline-block !important;position: relative;}#sk-container-id-2 div.sk-text-repr-fallback {display: none;}</style><div id=\"sk-container-id-2\" class=\"sk-top-container\"><div class=\"sk-text-repr-fallback\"><pre>LinearSVC()</pre><b>In a Jupyter environment, please rerun this cell to show the HTML representation or trust the notebook. <br />On GitHub, the HTML representation is unable to render, please try loading this page with nbviewer.org.</b></div><div class=\"sk-container\" hidden><div class=\"sk-item\"><div class=\"sk-estimator sk-toggleable\"><input class=\"sk-toggleable__control sk-hidden--visually\" id=\"sk-estimator-id-2\" type=\"checkbox\" checked><label for=\"sk-estimator-id-2\" class=\"sk-toggleable__label sk-toggleable__label-arrow\">LinearSVC</label><div class=\"sk-toggleable__content\"><pre>LinearSVC()</pre></div></div></div></div></div>"
      ],
      "text/plain": [
       "LinearSVC()"
      ]
     },
     "execution_count": 25,
     "metadata": {},
     "output_type": "execute_result"
    }
   ],
   "source": [
    "lsvc.fit(X_train, y_train)"
   ]
  },
  {
   "cell_type": "markdown",
   "id": "7d1ab2c2",
   "metadata": {},
   "source": [
    "### 26) TO DO: Evaluate the Linear Suport Vector Classifier Model\n",
    "Use the test set to create the model's predictions. Name the prediction vector **y_pred** as in previous notebooks."
   ]
  },
  {
   "cell_type": "code",
   "execution_count": 26,
   "id": "0f526f68",
   "metadata": {},
   "outputs": [
    {
     "name": "stdout",
     "output_type": "stream",
     "text": [
      "Test set prediction: \n",
      " ['three' 'three' 'one' 'one' 'three' 'three' 'one' 'two' 'one' 'one' 'two'\n",
      " 'two' 'two' 'one' 'three' 'one' 'two' 'one' 'three' 'two' 'three' 'one'\n",
      " 'two' 'two' 'one' 'one' 'two' 'three' 'three' 'one' 'two' 'two' 'two'\n",
      " 'one' 'two' 'one' 'one' 'one' 'two' 'two' 'one' 'three' 'one' 'three'\n",
      " 'three' 'three' 'two' 'two' 'three' 'one' 'three' 'three' 'one' 'one'\n",
      " 'three' 'one' 'two' 'two' 'one' 'one' 'one' 'two' 'one' 'one' 'two' 'two'\n",
      " 'one' 'two' 'one' 'two' 'one' 'three' 'one' 'one' 'two' 'three' 'one'\n",
      " 'one' 'two' 'three' 'three' 'one' 'three' 'two' 'two' 'one' 'two' 'two'\n",
      " 'three' 'one' 'one' 'one' 'two' 'two' 'one' 'two' 'one' 'two' 'two' 'two'\n",
      " 'one' 'three' 'one' 'two' 'one' 'two' 'two' 'one' 'three' 'two' 'two'\n",
      " 'two' 'one' 'one' 'one' 'one' 'three' 'one' 'two' 'one' 'three' 'three'\n",
      " 'one' 'one' 'two' 'two' 'two' 'three' 'two' 'one' 'one' 'three' 'one'\n",
      " 'three' 'two' 'one' 'two' 'two' 'two' 'three' 'two' 'two' 'one' 'two'\n",
      " 'two' 'two' 'two' 'two' 'one' 'one' 'one' 'two' 'two' 'one' 'two' 'two'\n",
      " 'two' 'two' 'two' 'one' 'two' 'one' 'one' 'two' 'one' 'two' 'one' 'two'\n",
      " 'three' 'one' 'two' 'two' 'two' 'two' 'one' 'two' 'two' 'one' 'two' 'two'\n",
      " 'one' 'two' 'three' 'three' 'three' 'two' 'one' 'one' 'two' 'two' 'two'\n",
      " 'one' 'one' 'one' 'one' 'two' 'two' 'three' 'three' 'one' 'one' 'one'\n",
      " 'one' 'two' 'two' 'three' 'one' 'one' 'one' 'three' 'three' 'two' 'three'\n",
      " 'one' 'three' 'two' 'one' 'one' 'one' 'two' 'two' 'one' 'two' 'two'\n",
      " 'three' 'one' 'two' 'one' 'one' 'three' 'one' 'one' 'two' 'one' 'two'\n",
      " 'one' 'two' 'one' 'two' 'two' 'one' 'two' 'three' 'three' 'one' 'two'\n",
      " 'one' 'three' 'one' 'two' 'three' 'two' 'two' 'one' 'one' 'one' 'three'\n",
      " 'one' 'two' 'two' 'one' 'three' 'one' 'three' 'one' 'three' 'two' 'two'\n",
      " 'two' 'one' 'one' 'one' 'one' 'two' 'one' 'two' 'one' 'three' 'one'\n",
      " 'three' 'three' 'one' 'two' 'one' 'two' 'two' 'three' 'two' 'two' 'three'\n",
      " 'two' 'one' 'two' 'three' 'three' 'two' 'three' 'one' 'three' 'three'\n",
      " 'one' 'three' 'three' 'three' 'two' 'two' 'one' 'one' 'three' 'one' 'one'\n",
      " 'two' 'three' 'two' 'two' 'two' 'two' 'two' 'two' 'one' 'three' 'one'\n",
      " 'three' 'three' 'one' 'two' 'one' 'three' 'two' 'one' 'two' 'two' 'two'\n",
      " 'one' 'three' 'three' 'one' 'two' 'three' 'one' 'two' 'one' 'three' 'one'\n",
      " 'two' 'three' 'two' 'one' 'three' 'two' 'two' 'one' 'three' 'one' 'one'\n",
      " 'two' 'one' 'one' 'one' 'three' 'one' 'one' 'two' 'two' 'one' 'one']\n"
     ]
    }
   ],
   "source": [
    "y_pred = lsvc.predict(X_test)\n",
    "print(\"Test set prediction: \\n {}\".format(y_pred))"
   ]
  },
  {
   "cell_type": "markdown",
   "id": "cff42f54",
   "metadata": {},
   "source": [
    "### 27) TO DO: Evaluate the Linear Suport Vector Model's Performance\n",
    "Use SciKit Learn's built-in scoring method to evaluate the model's performance accuracy"
   ]
  },
  {
   "cell_type": "code",
   "execution_count": 27,
   "id": "ef7b037f",
   "metadata": {},
   "outputs": [
    {
     "name": "stdout",
     "output_type": "stream",
     "text": [
      "Test set score: 0.97\n"
     ]
    }
   ],
   "source": [
    "# using the score method\n",
    "print(\"Test set score: {0:0.2f}\".format(lsvc.score(X_test,y_test)))"
   ]
  },
  {
   "cell_type": "markdown",
   "id": "78a17514",
   "metadata": {},
   "source": [
    "### 28) TO DO: Using the Predict Method of the Linear Suport Vector Model\n",
    "Use SciKit Learn's built-in *predict method* to test the model's predictive performance for the first row of data in X_test_std"
   ]
  },
  {
   "cell_type": "code",
   "execution_count": 29,
   "id": "c2b29b7e",
   "metadata": {},
   "outputs": [
    {
     "name": "stdout",
     "output_type": "stream",
     "text": [
      "The predicted class for the first row of X_test_std is: one\n"
     ]
    },
    {
     "name": "stderr",
     "output_type": "stream",
     "text": [
      "/Users/jordan/anaconda3/lib/python3.11/site-packages/sklearn/base.py:464: UserWarning: X does not have valid feature names, but LinearSVC was fitted with feature names\n",
      "  warnings.warn(\n"
     ]
    }
   ],
   "source": [
    "predicted_class = lsvc.predict(X_test_std[0].reshape(1, -1))\n",
    "print(f\"The predicted class for the first row of X_test_std is: {predicted_class[0]}\")"
   ]
  },
  {
   "cell_type": "markdown",
   "id": "c19885d8",
   "metadata": {},
   "source": [
    "### 29) TO DO:Print the number of misclassifications using numpy"
   ]
  },
  {
   "cell_type": "code",
   "execution_count": null,
   "id": "a5110c9c",
   "metadata": {},
   "outputs": [],
   "source": []
  },
  {
   "cell_type": "markdown",
   "id": "db0464fd",
   "metadata": {},
   "source": [
    "<h2 style = \"text-align: left; color:green\"> Confusion Matrix </h2>\n",
    "\n",
    "Supervised learner models are designed to classify, estimate, and/or predict future outcome. For some applications the desire is to build models showing consistently high predictive accuracy.\n",
    "\n",
    "### Classification Correctness:\n",
    "\n",
    "Classification correctness is best calculated by presenting previously unseen data in the form of a test set to the model being evaluated. Test\n",
    "set model accuracy can be summarized in a table known as a confusion matrix. To illustrate, let’s suppose we have three possible classes: C1,\n",
    "C2, and C3. A generic confusion matrix for the three class case is shown in Table 1.\n",
    "\n",
    "* Values along the main diagonal give the total number of correct classifications for each class.\n",
    "  * For example, a value of 15 for C11 means that 15 class C1 test set instances were correctly classified.\n",
    "* Values other than those on the main diagonal represent classification errors.\n",
    "    * To illustrate, suppose C12 has the value 4. This means that four class C1 instances were incorrectly classified as belonging to class C2. The following three rules may be helpful in analyzing the information in a confusion matrix:\n",
    "\n",
    "### Rules for the Three-Class Confusion Matrix\n",
    "* Rule 1. Values along the main diagonal represent correct classifications. For the matrix in Table 1,the value C11 represents the total number of class C1 instances correctly classified by the model. A similar statement can be made for the values C22 and C33.\n",
    "* Rule 2. Values in row Ci represent those instances that belong to class Ci. For example, with i = 2,the instances associated with cells C21, C22, and C23 are all actually members of C2. To find the total number of C2 instances incorrectly classified as members of another class, we compute the sum of C21 and C23.\n",
    "* Rule 3. Values found in column Ci indicate those instances that have been classified as members of Ci. With i = 2,the instances associated with cells C12, C22, and C32 have been classified as members of class C2.To find the total number of instances incorrectly classified as members of class C2, we compute the sum of C12 and C32\n",
    "\n",
    "### 30) TO DO: Compute the Confusion Matrix for the Linear Suport Vector Model\n",
    "\n",
    "Use SciKit Learn's metrics module to compute the model's confusion matrix."
   ]
  },
  {
   "cell_type": "code",
   "execution_count": 30,
   "id": "09fbfe3f",
   "metadata": {},
   "outputs": [
    {
     "data": {
      "image/png": "[encoded data removed]",
      "text/plain": [
       "<Figure size 640x480 with 2 Axes>"
      ]
     },
     "metadata": {},
     "output_type": "display_data"
    }
   ],
   "source": [
    "#confusion matrix\n",
    "from sklearn.metrics import confusion_matrix, ConfusionMatrixDisplay\n",
    "cm = confusion_matrix(y_test, y_pred, labels=lsvc.classes_)\n",
    "disp = ConfusionMatrixDisplay(confusion_matrix = cm, display_labels= lsvc.classes_)\n",
    "disp.plot()\n",
    "plt.show()"
   ]
  },
  {
   "cell_type": "markdown",
   "id": "3237faac",
   "metadata": {},
   "source": [
    "### 31)TO DO: Classification Correctness\n",
    "Based on the output of your confusion matrix, what was the total number of correct classifications of Substance 2?"
   ]
  },
  {
   "cell_type": "markdown",
   "id": "2ee29a6c",
   "metadata": {},
   "source": [
    "### Answer\n",
    "\n",
    "The total number of correct classifications of substance 2 was 137."
   ]
  },
  {
   "cell_type": "markdown",
   "id": "4c1bbf7d",
   "metadata": {},
   "source": [
    "### 32) TO DO: Compute the Classification report for Linear Suport Vector Model\n",
    "Use SciKit Learn's metrics module to compute the model's classification report."
   ]
  },
  {
   "cell_type": "code",
   "execution_count": 34,
   "id": "e79ab642",
   "metadata": {},
   "outputs": [
    {
     "ename": "SyntaxError",
     "evalue": "incomplete input (877787960.py, line 3)",
     "output_type": "error",
     "traceback": [
      "\u001b[0;36m  Cell \u001b[0;32mIn[34], line 3\u001b[0;36m\u001b[0m\n\u001b[0;31m    print(metrics.classification_report(y_test, y_pred)\u001b[0m\n\u001b[0m                                                       ^\u001b[0m\n\u001b[0;31mSyntaxError\u001b[0m\u001b[0;31m:\u001b[0m incomplete input\n"
     ]
    }
   ],
   "source": [
    "from sklearn import metrics\n",
    "print(\"Classification Report:\")\n",
    "print(metrics.classification_report(y_test, y_pred)"
   ]
  },
  {
   "cell_type": "markdown",
   "id": "fbf59116",
   "metadata": {},
   "source": [
    "### 33) TO DO: Classification Report\n",
    "\n",
    "Based on the output of your classification report, out of all the times Substance 1 should have been predicted, what percentage of times was\n",
    "it correctly predicted?\n",
    "\n",
    "Which performance score did you use to evaluate the performance of the model(s) from the confusion matrix /classification report? (HINT: You\n",
    "may need to research the meaning and difference between precision, recall and f1-score)"
   ]
  },
  {
   "cell_type": "markdown",
   "id": "24d2161d",
   "metadata": {},
   "source": []
  },
  {
   "cell_type": "markdown",
   "id": "50b2760c",
   "metadata": {},
   "source": [
    "<h2 style = \"text-align: left; color:green\"> Serialization </h2>\n",
    "\n",
    "<h3 style = \"text-align: left; color:purple\"> 34) TO DO: Model Persistence - Save/Load the trained classifier  </h3>\n",
    "\n",
    "To receive full credit for this part you must test the saved and re-loaded classifiers on an instance of “unknown” data and show that it correctly\n",
    "classifies the instance. It’s ok if you use an instance (sample) that is from the test set as the “unknown” data.\n",
    "\n",
    "<b style = \"text-align: left; color:purple\"> NOTE: Use either the Logistic Regression Model or the K-Nearest Neighbors Classifier for this part  </b>\n",
    "\n",
    "### Step1: Save the model\n",
    "\n",
    "**Pickle (serialize) and save the trained classifier to a folder**"
   ]
  },
  {
   "cell_type": "code",
   "execution_count": 31,
   "id": "5a0d2067",
   "metadata": {},
   "outputs": [
    {
     "ename": "SyntaxError",
     "evalue": "invalid syntax (1591777548.py, line 2)",
     "output_type": "error",
     "traceback": [
      "\u001b[0;36m  Cell \u001b[0;32mIn[31], line 2\u001b[0;36m\u001b[0m\n\u001b[0;31m    saved_classifer = ###\u001b[0m\n\u001b[0m                      ^\u001b[0m\n\u001b[0;31mSyntaxError\u001b[0m\u001b[0;31m:\u001b[0m invalid syntax\n"
     ]
    }
   ],
   "source": [
    "#assign classifer to serialize \n",
    "saved_classifer = \"\"\"Im guessing this is just a path name??? \"\"\"\n",
    "#serialization with Pickle\n",
    "import pickle\n",
    "import os\n",
    "\n",
    "dest = os.path.join('classifer','pkl_objects')\n",
    "if not os.path.exsits(dest):\n",
    "    os.makedirs(dest)\n",
    "\n",
    "pickle.dump(saved_classifer, open(os.path.join(dest, 'classifer.pkl'),'wb'), protocol=4)"
   ]
  },
  {
   "cell_type": "markdown",
   "id": "9d0216f0",
   "metadata": {},
   "source": [
    "### Step 2: Load the saved model\n",
    "\n",
    "**Load the saved the trained classifier into memory**\n"
   ]
  },
  {
   "cell_type": "code",
   "execution_count": null,
   "id": "fd4dc233",
   "metadata": {},
   "outputs": [],
   "source": [
    "# load the saved data to the trained classifer into memory\n",
    "import pickle\n",
    "import re\n",
    "import os\n",
    "os.chdir('classifer')\n",
    "classifer_reloaded = pickle.load(open(os.path.join('pkl_objects','classifer.pkl'), 'rb'))"
   ]
  },
  {
   "cell_type": "markdown",
   "id": "3da3e14e",
   "metadata": {},
   "source": [
    "### Step 3: Test the re-loaded model\n",
    "\n",
    "Use SciKit Learn's built-in predict method to test the re-loaded model on data from the row of data in X_test_std with index equal to six (6)"
   ]
  },
  {
   "cell_type": "code",
   "execution_count": null,
   "id": "a1a73212",
   "metadata": {},
   "outputs": [],
   "source": []
  },
  {
   "cell_type": "markdown",
   "id": "def01941",
   "metadata": {},
   "source": [
    "### Summary\n",
    "\n",
    "<h3 style = \"text-align:left; color: red\">BONUS (15 pts)</h3>\n",
    "\n",
    "It is **your choice** to do the bonus or not. It can only add points to your total course grade. It wont't hurt your grade if you chose NOT to do it.\n",
    "BUT, if you are going to attempt it, do it in the cells below (add cells as necessary). Follow the instructions for the notebook cells layout exactly\n",
    "as indicated in the bonus document or you may not receive credit!"
   ]
  },
  {
   "cell_type": "code",
   "execution_count": null,
   "id": "04cbb194",
   "metadata": {},
   "outputs": [],
   "source": []
  },
  {
   "cell_type": "markdown",
   "id": "e244d771",
   "metadata": {},
   "source": [
    "<h3 style = \"text-align:center; color: red\">End of Project</h3>\n"
   ]
  }
 ],
 "metadata": {
  "kernelspec": {
   "display_name": "Python 3 (ipykernel)",
   "language": "python",
   "name": "python3"
  },
  "language_info": {
   "codemirror_mode": {
    "name": "ipython",
    "version": 3
   },
   "file_extension": ".py",
   "mimetype": "text/x-python",
   "name": "python",
   "nbconvert_exporter": "python",
   "pygments_lexer": "ipython3",
   "version": "3.11.5"
  }
 },
 "nbformat": 4,
 "nbformat_minor": 5
}
